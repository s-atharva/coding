{
  "nbformat": 4,
  "nbformat_minor": 0,
  "metadata": {
    "colab": {
      "name": "Problem.ipynb",
      "provenance": [],
      "authorship_tag": "ABX9TyMwIoIgm84qmQjt5suaIBm8",
      "include_colab_link": true
    },
    "kernelspec": {
      "name": "python3",
      "display_name": "Python 3"
    },
    "language_info": {
      "name": "python"
    }
  },
  "cells": [
    {
      "cell_type": "markdown",
      "metadata": {
        "id": "view-in-github",
        "colab_type": "text"
      },
      "source": [
        "<a href=\"https://colab.research.google.com/github/s-atharva/coding/blob/main/Problem.ipynb\" target=\"_parent\"><img src=\"https://colab.research.google.com/assets/colab-badge.svg\" alt=\"Open In Colab\"/></a>"
      ]
    },
    {
      "cell_type": "code",
      "metadata": {
        "id": "WztK6vhGba0H"
      },
      "source": [
        "class Node:\n",
        "    def __init__(self, data = None):\n",
        "        self.data = data\n",
        "        self.next = None"
      ],
      "execution_count": 68,
      "outputs": []
    },
    {
      "cell_type": "code",
      "metadata": {
        "id": "JVd_FcVwk54a"
      },
      "source": [
        "class LinkedList:\n",
        "    def __init__(self):\n",
        "        self.head = None\n",
        "    \n",
        "    def display(self):\n",
        "        temp = self.head\n",
        "        while temp:\n",
        "            print(f\"{temp.data}\", end = \" -> \")\n",
        "            temp = temp.next\n",
        "        print(\"None\")\n",
        "    \n",
        "    def append(self, data):\n",
        "        node = Node(data)\n",
        "        if self.head is None:\n",
        "            self.head = node\n",
        "        else:\n",
        "            temp = self.head\n",
        "            while temp.next is not None:\n",
        "                temp = temp.next\n",
        "            temp.next = node"
      ],
      "execution_count": 84,
      "outputs": []
    },
    {
      "cell_type": "code",
      "metadata": {
        "colab": {
          "base_uri": "https://localhost:8080/"
        },
        "id": "CvP-MxVOlwzc",
        "outputId": "84db32bc-98fe-4f3e-e9c4-c7d9d21133a4"
      },
      "source": [
        "mylist = LinkedList()\n",
        "mylist.display()"
      ],
      "execution_count": 85,
      "outputs": [
        {
          "output_type": "stream",
          "name": "stdout",
          "text": [
            "None\n"
          ]
        }
      ]
    },
    {
      "cell_type": "code",
      "metadata": {
        "colab": {
          "base_uri": "https://localhost:8080/"
        },
        "id": "Dbv7CThtlzyM",
        "outputId": "06fe9c18-3283-4adb-bec9-f97595761575"
      },
      "source": [
        "mylist.append(1)\n",
        "mylist.append(1)\n",
        "mylist.append(1)\n",
        "mylist.append(2)\n",
        "mylist.append(2)\n",
        "mylist.append(4)\n",
        "mylist.append(4)\n",
        "mylist.display()"
      ],
      "execution_count": 86,
      "outputs": [
        {
          "output_type": "stream",
          "name": "stdout",
          "text": [
            "1 -> 1 -> 1 -> 2 -> 2 -> 4 -> 4 -> None\n"
          ]
        }
      ]
    },
    {
      "cell_type": "code",
      "metadata": {
        "id": "EV-CgoXbl521"
      },
      "source": [
        "def remove_duplicate(mylist):\n",
        "    # print(mylist.head.data)\n",
        "    temp = mylist.head\n",
        "    while temp.next:\n",
        "        if temp.data == temp.next.data:\n",
        "            temp = temp.next\n",
        "        \n",
        "        else:\n",
        "            print(f\"{temp.data}\", end = \" -> \")\n",
        "            temp = temp.next\n",
        "        if temp.next is None:\n",
        "            print(f\"{temp.data}\", end = \" -> None\")\n",
        "    # print(f\"{temp.data}-> None\")"
      ],
      "execution_count": 100,
      "outputs": []
    },
    {
      "cell_type": "code",
      "metadata": {
        "colab": {
          "base_uri": "https://localhost:8080/"
        },
        "id": "tg_SrgEDmVP9",
        "outputId": "a212634e-f9c9-459d-d6c7-69a47070ddbb"
      },
      "source": [
        "remove_duplicate(mylist)"
      ],
      "execution_count": 101,
      "outputs": [
        {
          "output_type": "stream",
          "name": "stdout",
          "text": [
            "1 -> 2 -> 4 -> None"
          ]
        }
      ]
    },
    {
      "cell_type": "code",
      "metadata": {
        "id": "H-x7gCRLmXGm"
      },
      "source": [
        "def print_without_duplicates(mylist):\n",
        "    temp = mylist.head\n",
        "    temp_data = None\n",
        "    while temp:\n",
        "        if temp_data == temp.data:\n",
        "            pass\n",
        "        else:\n",
        "            print(temp.data)\n",
        "            temp_data = temp.data\n",
        "        temp = temp.next"
      ],
      "execution_count": 89,
      "outputs": []
    },
    {
      "cell_type": "code",
      "metadata": {
        "colab": {
          "base_uri": "https://localhost:8080/"
        },
        "id": "VGI5aN2g7sSt",
        "outputId": "5f5258a8-801a-4f1e-87cf-26ec1b89f20b"
      },
      "source": [
        "print_without_duplicates(mylist)"
      ],
      "execution_count": 90,
      "outputs": [
        {
          "output_type": "stream",
          "name": "stdout",
          "text": [
            "1\n",
            "2\n",
            "4\n"
          ]
        }
      ]
    },
    {
      "cell_type": "code",
      "metadata": {
        "id": "8H6_Gpx07uOc"
      },
      "source": [
        ""
      ],
      "execution_count": null,
      "outputs": []
    }
  ]
}